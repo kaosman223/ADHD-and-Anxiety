{
 "cells": [
  {
   "cell_type": "markdown",
   "id": "5ff55222",
   "metadata": {},
   "source": [
    "# Data Science Profile"
   ]
  },
  {
   "cell_type": "markdown",
   "id": "9c43632b",
   "metadata": {},
   "source": [
    "## The Relationship Between ADHD and Anxiety in Adolescents"
   ]
  },
  {
   "cell_type": "markdown",
   "id": "18de1b1d",
   "metadata": {},
   "source": [
    "###### By Kinsie Osman"
   ]
  },
  {
   "cell_type": "markdown",
   "id": "19623a75",
   "metadata": {},
   "source": [
    "## Section 1. Introduction"
   ]
  },
  {
   "cell_type": "markdown",
   "id": "7744510f",
   "metadata": {},
   "source": [
    "##### Severe anxiety is a prevalent comorbidity with attention-deficit/hyperactivity disorder,which is characterized by symptoms of hyperactivity, impulsivity, and inattention.One therapeutic option for teenagers with anxiety disorders and ADHD is cognitive-behavioral therapy. For instance, a recent clinical study assessed the influence of cognitive-behavioral therapies on adolescents with anxiety and found that both types resulted in reductions in symptoms and an increase in social functioning.Despite evidence of cognitive-behavioral therapy's efficacy for anxiety, there remains a lack of research on its effectiveness in controlling anxiety in adolescents with ADHD. Identifying research gaps is crucial for effective treatment of adolescents with ADHD and anxiety. As a result, the goal of this research is to determine how beneficial accessible cognitive-behavioral therapy types are for adolescents with ADHD who suffer from anxiety.\n",
    "\n",
    "### Current Evidence of CBT for Adolescents with ADHD and Anxiety\n",
    "##### Anxiety affects 43.3% of adolescents with ADHD. Cognitive-behavioral therapy, whether individual or group-based, has been shown to reduce anxiety and depressive symptoms. For instance, disorder-specific therapy can even alleviate social anxiety and improve overall functioning in adolescents. However, anxiety disorders may exacerbate ADHD symptoms such as concentration issues, restlessness, and insomnia. Additionally, many adderall-derived medications for ADHD involve a risk of anxiety as a side effect.\n",
    "\n",
    "## Gaps in the Current Literature\n",
    "##### Significant gaps in ADHD research include: a lack of studies on adolescents, an unexplored link between comorbid conditions and CBT outcomes, and no long-term CBT interventions. Most research focuses on children with ADHD since anxiety disorders are less prevalent. Studies on adolescents primarily address the connection between ADHD and disruptive behavior or substance use. While many studies indicate short-term benefits of cognitive-behavioral therapy for ADHD and anxiety, there are none focused on a long-term intervention of CBT. Another trial showed improvements in study skills and time management among college students with ADHD over two semesters but didn’t measure how effective this treatment is long-term and how comorbid conditions influence outcomes.\n",
    "\n",
    "## Purpose of Exploring this Relationship\n",
    "#### This study aims to address the gaps in public health research related to managing anxiety in adolescents with ADHD by exploring cognitive-behavioral therapy (CBT) in an accessible manner. Specifically, it investigates the effectiveness of group-based therapy offered through school programs for adolescents with ADHD. This focus is crucial for the mental health aspect of public health, as it seeks to assist individuals who struggle with anxiety and ADHD in managing their symptoms."
   ]
  },
  {
   "cell_type": "markdown",
   "id": "3f76768a",
   "metadata": {},
   "source": []
  }
 ],
 "metadata": {
  "kernelspec": {
   "display_name": ".venv",
   "language": "python",
   "name": "python3"
  },
  "language_info": {
   "name": "python",
   "version": "3.13.7"
  }
 },
 "nbformat": 4,
 "nbformat_minor": 5
}
