{
 "cells": [
  {
   "cell_type": "markdown",
   "id": "006bf7ec",
   "metadata": {},
   "source": [
    "# Section 2 : Variables of Interest, Confounders, and Effect Modifiers"
   ]
  },
  {
   "cell_type": "markdown",
   "id": "b36fddcf",
   "metadata": {},
   "source": [
    "### Section 2.1: Variables of Interest\n",
    "##### This study examines the effect of comorbid anxiety on symptoms of ADHD in adolescents through the additional treatment alternative of group cognitive-behavioral therapy. Therefore, participants will be divided into two groups: receiving group CBT vs not receiving group CBT, with this exposure variable measured categorically. The outcome in the study is defined as the improvement in anxiety symptoms as a categorical variable above or below the study questionnaire threshold."
   ]
  },
  {
   "cell_type": "markdown",
   "id": "594eec2c",
   "metadata": {},
   "source": []
  }
 ],
 "metadata": {
  "kernelspec": {
   "display_name": ".venv",
   "language": "python",
   "name": "python3"
  },
  "language_info": {
   "name": "python",
   "version": "3.13.7"
  }
 },
 "nbformat": 4,
 "nbformat_minor": 5
}
